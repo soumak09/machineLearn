{
  "nbformat": 4,
  "nbformat_minor": 0,
  "metadata": {
    "colab": {
      "provenance": [],
      "authorship_tag": "ABX9TyNhSxbEHgjROBpG4i5vM5dr",
      "include_colab_link": true
    },
    "kernelspec": {
      "name": "python3",
      "display_name": "Python 3"
    },
    "language_info": {
      "name": "python"
    }
  },
  "cells": [
    {
      "cell_type": "markdown",
      "metadata": {
        "id": "view-in-github",
        "colab_type": "text"
      },
      "source": [
        "<a href=\"https://colab.research.google.com/github/soumak09/machineLearn/blob/main/Perceptron_code.ipynb\" target=\"_parent\"><img src=\"https://colab.research.google.com/assets/colab-badge.svg\" alt=\"Open In Colab\"/></a>"
      ]
    },
    {
      "cell_type": "code",
      "execution_count": 1,
      "metadata": {
        "id": "Qrjbu0-zVMe5"
      },
      "outputs": [],
      "source": [
        "from sklearn.datasets import make_classification\n",
        "import numpy as np\n",
        "X, y = make_classification(n_samples=100, n_features=2, n_informative=1,n_redundant=0,\n",
        "                           n_classes=2, n_clusters_per_class=1, random_state=41,hypercube=False,class_sep=10)"
      ]
    },
    {
      "cell_type": "code",
      "source": [
        "X"
      ],
      "metadata": {
        "colab": {
          "base_uri": "https://localhost:8080/"
        },
        "id": "5sC-UWvfZhaR",
        "outputId": "460f5476-8e96-46b9-c1df-e283a3324dd3"
      },
      "execution_count": 12,
      "outputs": [
        {
          "output_type": "execute_result",
          "data": {
            "text/plain": [
              "array([[ 0.19924745, -0.11697552],\n",
              "       [-0.24882029, -0.73115232],\n",
              "       [-0.3544904 , -0.7081059 ],\n",
              "       [-1.59086506, -2.01199214],\n",
              "       [-0.20083951,  1.63493163],\n",
              "       [-0.83241122,  0.15599044],\n",
              "       [-1.79207014,  1.07782053],\n",
              "       [ 0.0856607 ,  0.80626713],\n",
              "       [-0.55865299,  0.74859527],\n",
              "       [-1.95974262,  0.75152794],\n",
              "       [-1.77828947, -0.90114581],\n",
              "       [-1.77985853, -0.1815243 ],\n",
              "       [-0.02194151, -2.98092432],\n",
              "       [ 0.80563431,  1.20500136],\n",
              "       [-1.82701214,  0.78302407],\n",
              "       [ 0.38730728,  0.42968688],\n",
              "       [-0.14108668, -0.73229726],\n",
              "       [-1.87955941, -0.83930476],\n",
              "       [-0.18232911,  0.83727062],\n",
              "       [-1.77059533, -0.10255323],\n",
              "       [-2.27658028,  0.65867001],\n",
              "       [-2.06519502,  0.92649819],\n",
              "       [-1.31690551,  0.10216193],\n",
              "       [ 1.61043259,  0.46886454],\n",
              "       [-1.21650394,  0.45432938],\n",
              "       [ 0.6139723 ,  1.8613386 ],\n",
              "       [-1.78760957, -0.79255991],\n",
              "       [-1.04149161, -1.0004391 ],\n",
              "       [-2.40067584, -0.53814137],\n",
              "       [-1.80383452,  0.44027716],\n",
              "       [-1.44075613,  0.27047889],\n",
              "       [ 1.34989978, -0.75869267],\n",
              "       [ 0.22520167,  0.6802322 ],\n",
              "       [ 0.53688527,  0.17018845],\n",
              "       [ 0.55483459, -1.01121977],\n",
              "       [-0.32178185, -0.8394709 ],\n",
              "       [-0.98821248,  0.90327412],\n",
              "       [ 0.67394805,  1.16981747],\n",
              "       [-1.60913592,  0.53461406],\n",
              "       [ 0.75727194, -0.22100631],\n",
              "       [-1.32591376, -0.64584571],\n",
              "       [-0.91783293,  0.21243302],\n",
              "       [-1.35578147,  0.98654083],\n",
              "       [ 1.46869659,  0.67382928],\n",
              "       [-0.80540713, -0.11323563],\n",
              "       [ 1.08059816,  0.91694693],\n",
              "       [ 0.14667326,  0.3645213 ],\n",
              "       [-1.37324548, -0.78470874],\n",
              "       [-1.09742089, -1.48004137],\n",
              "       [-0.92017476,  0.72931763],\n",
              "       [ 0.22020513, -0.60000139],\n",
              "       [-0.3515292 ,  0.14720034],\n",
              "       [-1.42135667,  0.35215601],\n",
              "       [ 0.94415309,  0.17388705],\n",
              "       [ 2.14488191, -0.17162755],\n",
              "       [-1.52699536,  0.03763193],\n",
              "       [ 1.0347932 ,  0.48360467],\n",
              "       [-2.05551135, -0.07909256],\n",
              "       [-1.33241395,  0.06158897],\n",
              "       [-0.10615042, -1.20413846],\n",
              "       [ 0.89910594,  0.77324391],\n",
              "       [-1.32152694,  0.7640092 ],\n",
              "       [-1.96489671,  1.57200032],\n",
              "       [ 0.97099786,  0.47296516],\n",
              "       [ 0.0520771 ,  0.0642074 ],\n",
              "       [-0.66393984,  1.52469135],\n",
              "       [-1.8937672 , -2.1450828 ],\n",
              "       [ 0.5941446 , -0.7701428 ],\n",
              "       [-1.55261523,  0.84455766],\n",
              "       [-0.9998803 ,  1.29753064],\n",
              "       [-2.39664251, -0.84276652],\n",
              "       [ 0.27537438,  2.0615874 ],\n",
              "       [ 1.0723376 , -0.3036533 ],\n",
              "       [-1.4577388 , -0.1656085 ],\n",
              "       [ 1.06667457,  1.16969713],\n",
              "       [ 0.67498344, -0.3038555 ],\n",
              "       [-2.18254559, -0.4788978 ],\n",
              "       [ 0.96395115,  0.28128262],\n",
              "       [-1.3155857 ,  0.70412341],\n",
              "       [ 0.7158603 ,  0.3757601 ],\n",
              "       [-0.16186654,  0.97247545],\n",
              "       [ 1.341869  ,  0.56868381],\n",
              "       [-1.46023043, -0.39767934],\n",
              "       [ 1.37645492, -1.08933729],\n",
              "       [-0.35770727, -1.81663939],\n",
              "       [-1.8640534 ,  1.41775924],\n",
              "       [-1.7826468 ,  0.27098296],\n",
              "       [-1.18927817, -0.56186639],\n",
              "       [ 0.26654845,  0.42168159],\n",
              "       [-1.28809059, -2.95373116],\n",
              "       [ 0.75163482,  0.19492133],\n",
              "       [ 1.16254252, -0.04578681],\n",
              "       [-1.15890056, -0.18860967],\n",
              "       [-1.48693688,  0.44635682],\n",
              "       [ 0.75292818, -1.49814775],\n",
              "       [-2.12332717,  0.66198774],\n",
              "       [-1.53599817,  0.07153265],\n",
              "       [-1.46034714,  0.32323638],\n",
              "       [ 0.83626582, -0.34574201],\n",
              "       [-0.26570627,  0.06499922]])"
            ]
          },
          "metadata": {},
          "execution_count": 12
        }
      ]
    },
    {
      "cell_type": "code",
      "source": [
        "y"
      ],
      "metadata": {
        "colab": {
          "base_uri": "https://localhost:8080/"
        },
        "id": "5R1ZidAXZok7",
        "outputId": "1a27dbc2-a7d1-4651-c7ab-4dc93a86a0d2"
      },
      "execution_count": 13,
      "outputs": [
        {
          "output_type": "execute_result",
          "data": {
            "text/plain": [
              "array([1, 1, 1, 0, 1, 0, 0, 1, 1, 0, 0, 0, 1, 1, 0, 1, 1, 0, 1, 0, 0, 0,\n",
              "       0, 1, 0, 1, 0, 0, 0, 0, 0, 1, 1, 1, 1, 1, 0, 1, 0, 1, 0, 0, 0, 1,\n",
              "       0, 1, 1, 0, 0, 0, 1, 1, 0, 1, 1, 0, 1, 0, 0, 1, 1, 0, 0, 1, 1, 1,\n",
              "       0, 1, 0, 0, 0, 1, 1, 0, 1, 1, 0, 1, 0, 1, 1, 1, 0, 1, 1, 0, 0, 0,\n",
              "       1, 0, 1, 1, 0, 0, 1, 0, 0, 0, 1, 1])"
            ]
          },
          "metadata": {},
          "execution_count": 13
        }
      ]
    },
    {
      "cell_type": "code",
      "source": [
        "import matplotlib.pyplot as plt"
      ],
      "metadata": {
        "id": "nXVeaKnJVTdm"
      },
      "execution_count": 2,
      "outputs": []
    },
    {
      "cell_type": "code",
      "source": [
        "plt.figure(figsize=(10,6))\n",
        "plt.scatter(X[:,0],X[:,1],c=y,cmap='winter',s=100)"
      ],
      "metadata": {
        "colab": {
          "base_uri": "https://localhost:8080/",
          "height": 392
        },
        "id": "JjGO69pnVZ4i",
        "outputId": "16609be9-e1f6-476a-aeac-8459399b8c99"
      },
      "execution_count": 3,
      "outputs": [
        {
          "output_type": "execute_result",
          "data": {
            "text/plain": [
              "<matplotlib.collections.PathCollection at 0x7f3b90d07cd0>"
            ]
          },
          "metadata": {},
          "execution_count": 3
        },
        {
          "output_type": "display_data",
          "data": {
            "text/plain": [
              "<Figure size 720x432 with 1 Axes>"
            ],
            "image/png": "[encoded data removed]"
          },
          "metadata": {
            "needs_background": "light"
          }
        }
      ]
    },
    {
      "cell_type": "code",
      "source": [
        "def step(z):\n",
        "    return 1 if z>0 else 0"
      ],
      "metadata": {
        "id": "HLVqtWljWk8X"
      },
      "execution_count": 4,
      "outputs": []
    },
    {
      "cell_type": "code",
      "source": [
        "def perceptron(X,y):\n",
        "    \n",
        "    X = np.insert(X,0,1,axis=1)\n",
        "    weights = np.ones(X.shape[1])\n",
        "    lr = 0.1\n",
        "    \n",
        "    for i in range(1000):\n",
        "        j = np.random.randint(0,100)\n",
        "        y_hat = step(np.dot(X[j],weights))\n",
        "        weights = weights + lr*(y[j]-y_hat)*X[j]\n",
        "        \n",
        "    return weights[0],weights[1:]"
      ],
      "metadata": {
        "id": "cjtdJASMYMSP"
      },
      "execution_count": 6,
      "outputs": []
    },
    {
      "cell_type": "code",
      "source": [
        "np.insert(X,0,1,axis=1)"
      ],
      "metadata": {
        "colab": {
          "base_uri": "https://localhost:8080/"
        },
        "id": "68l2EE0AZytu",
        "outputId": "33812a79-9778-4e35-f774-76bbc37a9e54"
      },
      "execution_count": 14,
      "outputs": [
        {
          "output_type": "execute_result",
          "data": {
            "text/plain": [
              "array([[ 1.        ,  0.19924745, -0.11697552],\n",
              "       [ 1.        , -0.24882029, -0.73115232],\n",
              "       [ 1.        , -0.3544904 , -0.7081059 ],\n",
              "       [ 1.        , -1.59086506, -2.01199214],\n",
              "       [ 1.        , -0.20083951,  1.63493163],\n",
              "       [ 1.        , -0.83241122,  0.15599044],\n",
              "       [ 1.        , -1.79207014,  1.07782053],\n",
              "       [ 1.        ,  0.0856607 ,  0.80626713],\n",
              "       [ 1.        , -0.55865299,  0.74859527],\n",
              "       [ 1.        , -1.95974262,  0.75152794],\n",
              "       [ 1.        , -1.77828947, -0.90114581],\n",
              "       [ 1.        , -1.77985853, -0.1815243 ],\n",
              "       [ 1.        , -0.02194151, -2.98092432],\n",
              "       [ 1.        ,  0.80563431,  1.20500136],\n",
              "       [ 1.        , -1.82701214,  0.78302407],\n",
              "       [ 1.        ,  0.38730728,  0.42968688],\n",
              "       [ 1.        , -0.14108668, -0.73229726],\n",
              "       [ 1.        , -1.87955941, -0.83930476],\n",
              "       [ 1.        , -0.18232911,  0.83727062],\n",
              "       [ 1.        , -1.77059533, -0.10255323],\n",
              "       [ 1.        , -2.27658028,  0.65867001],\n",
              "       [ 1.        , -2.06519502,  0.92649819],\n",
              "       [ 1.        , -1.31690551,  0.10216193],\n",
              "       [ 1.        ,  1.61043259,  0.46886454],\n",
              "       [ 1.        , -1.21650394,  0.45432938],\n",
              "       [ 1.        ,  0.6139723 ,  1.8613386 ],\n",
              "       [ 1.        , -1.78760957, -0.79255991],\n",
              "       [ 1.        , -1.04149161, -1.0004391 ],\n",
              "       [ 1.        , -2.40067584, -0.53814137],\n",
              "       [ 1.        , -1.80383452,  0.44027716],\n",
              "       [ 1.        , -1.44075613,  0.27047889],\n",
              "       [ 1.        ,  1.34989978, -0.75869267],\n",
              "       [ 1.        ,  0.22520167,  0.6802322 ],\n",
              "       [ 1.        ,  0.53688527,  0.17018845],\n",
              "       [ 1.        ,  0.55483459, -1.01121977],\n",
              "       [ 1.        , -0.32178185, -0.8394709 ],\n",
              "       [ 1.        , -0.98821248,  0.90327412],\n",
              "       [ 1.        ,  0.67394805,  1.16981747],\n",
              "       [ 1.        , -1.60913592,  0.53461406],\n",
              "       [ 1.        ,  0.75727194, -0.22100631],\n",
              "       [ 1.        , -1.32591376, -0.64584571],\n",
              "       [ 1.        , -0.91783293,  0.21243302],\n",
              "       [ 1.        , -1.35578147,  0.98654083],\n",
              "       [ 1.        ,  1.46869659,  0.67382928],\n",
              "       [ 1.        , -0.80540713, -0.11323563],\n",
              "       [ 1.        ,  1.08059816,  0.91694693],\n",
              "       [ 1.        ,  0.14667326,  0.3645213 ],\n",
              "       [ 1.        , -1.37324548, -0.78470874],\n",
              "       [ 1.        , -1.09742089, -1.48004137],\n",
              "       [ 1.        , -0.92017476,  0.72931763],\n",
              "       [ 1.        ,  0.22020513, -0.60000139],\n",
              "       [ 1.        , -0.3515292 ,  0.14720034],\n",
              "       [ 1.        , -1.42135667,  0.35215601],\n",
              "       [ 1.        ,  0.94415309,  0.17388705],\n",
              "       [ 1.        ,  2.14488191, -0.17162755],\n",
              "       [ 1.        , -1.52699536,  0.03763193],\n",
              "       [ 1.        ,  1.0347932 ,  0.48360467],\n",
              "       [ 1.        , -2.05551135, -0.07909256],\n",
              "       [ 1.        , -1.33241395,  0.06158897],\n",
              "       [ 1.        , -0.10615042, -1.20413846],\n",
              "       [ 1.        ,  0.89910594,  0.77324391],\n",
              "       [ 1.        , -1.32152694,  0.7640092 ],\n",
              "       [ 1.        , -1.96489671,  1.57200032],\n",
              "       [ 1.        ,  0.97099786,  0.47296516],\n",
              "       [ 1.        ,  0.0520771 ,  0.0642074 ],\n",
              "       [ 1.        , -0.66393984,  1.52469135],\n",
              "       [ 1.        , -1.8937672 , -2.1450828 ],\n",
              "       [ 1.        ,  0.5941446 , -0.7701428 ],\n",
              "       [ 1.        , -1.55261523,  0.84455766],\n",
              "       [ 1.        , -0.9998803 ,  1.29753064],\n",
              "       [ 1.        , -2.39664251, -0.84276652],\n",
              "       [ 1.        ,  0.27537438,  2.0615874 ],\n",
              "       [ 1.        ,  1.0723376 , -0.3036533 ],\n",
              "       [ 1.        , -1.4577388 , -0.1656085 ],\n",
              "       [ 1.        ,  1.06667457,  1.16969713],\n",
              "       [ 1.        ,  0.67498344, -0.3038555 ],\n",
              "       [ 1.        , -2.18254559, -0.4788978 ],\n",
              "       [ 1.        ,  0.96395115,  0.28128262],\n",
              "       [ 1.        , -1.3155857 ,  0.70412341],\n",
              "       [ 1.        ,  0.7158603 ,  0.3757601 ],\n",
              "       [ 1.        , -0.16186654,  0.97247545],\n",
              "       [ 1.        ,  1.341869  ,  0.56868381],\n",
              "       [ 1.        , -1.46023043, -0.39767934],\n",
              "       [ 1.        ,  1.37645492, -1.08933729],\n",
              "       [ 1.        , -0.35770727, -1.81663939],\n",
              "       [ 1.        , -1.8640534 ,  1.41775924],\n",
              "       [ 1.        , -1.7826468 ,  0.27098296],\n",
              "       [ 1.        , -1.18927817, -0.56186639],\n",
              "       [ 1.        ,  0.26654845,  0.42168159],\n",
              "       [ 1.        , -1.28809059, -2.95373116],\n",
              "       [ 1.        ,  0.75163482,  0.19492133],\n",
              "       [ 1.        ,  1.16254252, -0.04578681],\n",
              "       [ 1.        , -1.15890056, -0.18860967],\n",
              "       [ 1.        , -1.48693688,  0.44635682],\n",
              "       [ 1.        ,  0.75292818, -1.49814775],\n",
              "       [ 1.        , -2.12332717,  0.66198774],\n",
              "       [ 1.        , -1.53599817,  0.07153265],\n",
              "       [ 1.        , -1.46034714,  0.32323638],\n",
              "       [ 1.        ,  0.83626582, -0.34574201],\n",
              "       [ 1.        , -0.26570627,  0.06499922]])"
            ]
          },
          "metadata": {},
          "execution_count": 14
        }
      ]
    },
    {
      "cell_type": "code",
      "source": [
        "X.shape[1]"
      ],
      "metadata": {
        "colab": {
          "base_uri": "https://localhost:8080/"
        },
        "id": "s3D1lQ8pabNZ",
        "outputId": "12d4cc6a-b159-4503-f241-a76b18a2a06a"
      },
      "execution_count": 15,
      "outputs": [
        {
          "output_type": "execute_result",
          "data": {
            "text/plain": [
              "2"
            ]
          },
          "metadata": {},
          "execution_count": 15
        }
      ]
    },
    {
      "cell_type": "code",
      "source": [
        "X.shape"
      ],
      "metadata": {
        "colab": {
          "base_uri": "https://localhost:8080/"
        },
        "id": "Qr1kyelzafSy",
        "outputId": "12065044-f111-4a8f-802b-0d0f458e0260"
      },
      "execution_count": 16,
      "outputs": [
        {
          "output_type": "execute_result",
          "data": {
            "text/plain": [
              "(100, 2)"
            ]
          },
          "metadata": {},
          "execution_count": 16
        }
      ]
    },
    {
      "cell_type": "code",
      "source": [
        "np.random.randint(0,100)"
      ],
      "metadata": {
        "colab": {
          "base_uri": "https://localhost:8080/"
        },
        "id": "iJsAFhahavW-",
        "outputId": "740ba397-5724-4f38-a4de-f405526ad77a"
      },
      "execution_count": 20,
      "outputs": [
        {
          "output_type": "execute_result",
          "data": {
            "text/plain": [
              "16"
            ]
          },
          "metadata": {},
          "execution_count": 20
        }
      ]
    },
    {
      "cell_type": "code",
      "source": [
        "X[16]"
      ],
      "metadata": {
        "colab": {
          "base_uri": "https://localhost:8080/"
        },
        "id": "KE1UAhmxbP27",
        "outputId": "364cec9e-0762-4845-db01-1918c26dd9cc"
      },
      "execution_count": 21,
      "outputs": [
        {
          "output_type": "execute_result",
          "data": {
            "text/plain": [
              "array([-0.14108668, -0.73229726])"
            ]
          },
          "metadata": {},
          "execution_count": 21
        }
      ]
    },
    {
      "cell_type": "code",
      "source": [
        "intercept_,coef_ = perceptron(X,y)"
      ],
      "metadata": {
        "id": "Nd539-u-YCt6"
      },
      "execution_count": 7,
      "outputs": []
    },
    {
      "cell_type": "code",
      "source": [
        "print(coef_)\n",
        "print(intercept_)"
      ],
      "metadata": {
        "colab": {
          "base_uri": "https://localhost:8080/"
        },
        "id": "d784Cx3uYRVr",
        "outputId": "70daa085-f2d3-43d1-bc3d-ca4641e011ca"
      },
      "execution_count": 8,
      "outputs": [
        {
          "output_type": "stream",
          "name": "stdout",
          "text": [
            "[1.33921038 0.22558688]\n",
            "1.0\n"
          ]
        }
      ]
    },
    {
      "cell_type": "code",
      "source": [
        "m = -(coef_[0]/coef_[1])\n",
        "b = -(intercept_/coef_[1])"
      ],
      "metadata": {
        "id": "wL-N60CsYSbN"
      },
      "execution_count": 9,
      "outputs": []
    },
    {
      "cell_type": "code",
      "source": [
        "x_input = np.linspace(-3,3,100)\n",
        "y_input = m*x_input + b"
      ],
      "metadata": {
        "id": "YNgcu92nYU4b"
      },
      "execution_count": 10,
      "outputs": []
    },
    {
      "cell_type": "code",
      "source": [
        "plt.figure(figsize=(10,6))\n",
        "plt.plot(x_input,y_input,color='red',linewidth=3)\n",
        "plt.scatter(X[:,0],X[:,1],c=y,cmap='winter',s=100)\n",
        "plt.ylim(-3,2)"
      ],
      "metadata": {
        "colab": {
          "base_uri": "https://localhost:8080/",
          "height": 396
        },
        "id": "LOplfQ4pYXOK",
        "outputId": "0597cf02-8b3f-4e75-87c1-6a36ee2ba3cb"
      },
      "execution_count": 11,
      "outputs": [
        {
          "output_type": "execute_result",
          "data": {
            "text/plain": [
              "(-3.0, 2.0)"
            ]
          },
          "metadata": {},
          "execution_count": 11
        },
        {
          "output_type": "display_data",
          "data": {
            "text/plain": [
              "<Figure size 720x432 with 1 Axes>"
            ],
            "image/png": "[encoded data removed]"
          },
          "metadata": {
            "needs_background": "light"
          }
        }
      ]
    }
  ]
}